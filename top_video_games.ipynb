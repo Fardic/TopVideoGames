{
 "cells": [
  {
   "cell_type": "code",
   "execution_count": 14,
   "metadata": {},
   "outputs": [],
   "source": [
    "import pandas as pd\n",
    "from sqlite3 import connect\n",
    "import numpy as np\n",
    "from sklearn.feature_extraction.text import CountVectorizer\n",
    "from sklearn.cluster import KMeans\n",
    "from sklearn import preprocessing\n",
    "from keras.utils.np_utils import to_categorical\n",
    "from sklearn.model_selection import train_test_split\n",
    "from sklearn.svm import SVR\n",
    "from sklearn.pipeline import make_pipeline\n",
    "from sklearn import metrics\n",
    "from sklearn import decomposition\n",
    "from keras.models import Sequential\n",
    "from keras.layers.core import Dense, Activation, Dropout\n",
    "from keras.layers.normalization import batch_normalization\n",
    "import tensorflow as tf\n",
    "\n"
   ]
  },
  {
   "cell_type": "code",
   "execution_count": 3,
   "metadata": {},
   "outputs": [],
   "source": [
    "conn = connect(\"data/dataset_review.db\")\n",
    "dataset = pd.read_sql(\"SELECT * FROM games\", conn)\n",
    "conn.close()\n",
    "\n",
    "dataset.set_index(\"index\", inplace=True)\n",
    "dataset = dataset.loc[dataset[\"summary\"].notnull()]\n",
    "dataset = dataset.loc[dataset[\"reviews\"].notnull()]\n",
    "dataset = dataset[dataset[\"user_review\"] != -1]\n",
    "dataset.reset_index(drop=True, inplace=True)"
   ]
  },
  {
   "cell_type": "code",
   "execution_count": 4,
   "metadata": {},
   "outputs": [],
   "source": [
    "# tfv = TfidfVectorizer(min_df=3,  max_features=None, \n",
    "#             strip_accents='unicode', analyzer='word',token_pattern=r'\\w{1,}',\n",
    "#             ngram_range=(1, 3), use_idf=1,smooth_idf=1,sublinear_tf=1,\n",
    "#             stop_words = 'english')\n",
    "# tfv.fit(dataset[\"summary\"].str.lower())\n",
    "# summary = tfv.transform(dataset[\"summary\"])\n",
    "# kmeans = KMeans(n_clusters=10, random_state=7).fit(summary)\n",
    "# summary_kmeans = np.array(kmeans.labels_)\n",
    "# np.save(\"data/summary_kmeans.npy\", summary_kmeans)\n",
    "\n",
    "summary_kmeans = np.load(\"data/summary_kmeans.npy\", allow_pickle=True)"
   ]
  },
  {
   "cell_type": "code",
   "execution_count": 5,
   "metadata": {},
   "outputs": [],
   "source": [
    "categorical_labels = to_categorical(summary_kmeans, num_classes=10)\n",
    "dataset = pd.concat([dataset, pd.DataFrame(categorical_labels, columns=[\"summary_kmean_\" + str(i) for i in range(10)])], axis=1)\n",
    "y = dataset[\"user_review\"]\n",
    "x = dataset.drop(columns=[\"user_review\"])"
   ]
  },
  {
   "cell_type": "code",
   "execution_count": 6,
   "metadata": {},
   "outputs": [],
   "source": [
    "\n",
    "tfv = CountVectorizer(analyzer='word', stop_words = 'english')\n",
    "a = tfv.fit_transform(dataset[\"reviews\"].values)"
   ]
  },
  {
   "cell_type": "code",
   "execution_count": 7,
   "metadata": {},
   "outputs": [],
   "source": [
    "sc = preprocessing.StandardScaler(with_mean=False)\n",
    "svd = decomposition.TruncatedSVD(n_components=700)\n",
    "b = svd.fit_transform(sc.fit_transform(a))"
   ]
  },
  {
   "cell_type": "code",
   "execution_count": 8,
   "metadata": {},
   "outputs": [],
   "source": [
    "x_train, x_valid, y_train, y_valid = train_test_split(b, y, random_state=7, test_size=0.2, shuffle=True)"
   ]
  },
  {
   "cell_type": "code",
   "execution_count": null,
   "metadata": {},
   "outputs": [],
   "source": [
    "regr = make_pipeline(preprocessing.StandardScaler(with_mean=False), decomposition.TruncatedSVD(n_components=700), SVR(C=1.0, epsilon=0.2))\n",
    "regr.fit(x_train, y_train)\n",
    "pred = regr.predict(x_valid)\n",
    "print(metrics.r2_score(y_true=y_valid, y_pred=pred))\n",
    "\n",
    "\n",
    "\n"
   ]
  },
  {
   "cell_type": "code",
   "execution_count": null,
   "metadata": {},
   "outputs": [],
   "source": []
  },
  {
   "cell_type": "code",
   "execution_count": null,
   "metadata": {},
   "outputs": [],
   "source": [
    "x_train.shape"
   ]
  },
  {
   "cell_type": "code",
   "execution_count": 57,
   "metadata": {},
   "outputs": [],
   "source": [
    "model = Sequential()\n",
    "\n",
    "model.add(Dense(300, input_dim=700, activation='relu'))\n",
    "model.add(Dropout(0.2))\n",
    "model.add(batch_normalization.BatchNormalization())\n",
    "\n",
    "model.add(Dense(300, activation='relu'))\n",
    "model.add(Dropout(0.3))\n",
    "model.add(batch_normalization.BatchNormalization())\n",
    "\n",
    "model.add(Dense(1))\n",
    "model.add(Activation('relu'))\n",
    "\n",
    "model.compile(loss='mse', optimizer='adam')"
   ]
  },
  {
   "cell_type": "code",
   "execution_count": 58,
   "metadata": {},
   "outputs": [
    {
     "name": "stdout",
     "output_type": "stream",
     "text": [
      "Epoch 1/100\n",
      "186/186 [==============================] - 1s 4ms/step - loss: 0.2887 - val_loss: 0.1564\n",
      "Epoch 2/100\n",
      "186/186 [==============================] - 1s 4ms/step - loss: 0.1561 - val_loss: 0.0904\n",
      "Epoch 3/100\n",
      "186/186 [==============================] - 1s 3ms/step - loss: 0.1203 - val_loss: 0.0709\n",
      "Epoch 4/100\n",
      "186/186 [==============================] - 1s 4ms/step - loss: 0.0964 - val_loss: 0.0595\n",
      "Epoch 5/100\n",
      "186/186 [==============================] - 1s 3ms/step - loss: 0.0750 - val_loss: 0.0475\n",
      "Epoch 6/100\n",
      "186/186 [==============================] - 1s 3ms/step - loss: 0.0614 - val_loss: 0.0363\n",
      "Epoch 7/100\n",
      "186/186 [==============================] - 1s 3ms/step - loss: 0.0460 - val_loss: 0.0229\n",
      "Epoch 8/100\n",
      "186/186 [==============================] - 1s 4ms/step - loss: 0.0308 - val_loss: 0.0172\n",
      "Epoch 9/100\n",
      "186/186 [==============================] - 1s 4ms/step - loss: 0.0246 - val_loss: 0.0212\n",
      "Epoch 10/100\n",
      "186/186 [==============================] - 1s 3ms/step - loss: 0.0203 - val_loss: 0.0163\n",
      "Epoch 11/100\n",
      "186/186 [==============================] - 1s 4ms/step - loss: 0.0170 - val_loss: 0.0162\n",
      "Epoch 12/100\n",
      "186/186 [==============================] - 1s 3ms/step - loss: 0.0161 - val_loss: 0.0153\n",
      "Epoch 13/100\n",
      "186/186 [==============================] - 1s 3ms/step - loss: 0.0149 - val_loss: 0.0140\n",
      "Epoch 14/100\n",
      "186/186 [==============================] - 1s 3ms/step - loss: 0.0141 - val_loss: 0.0133\n",
      "Epoch 15/100\n",
      "186/186 [==============================] - 1s 4ms/step - loss: 0.0132 - val_loss: 0.0134\n",
      "Epoch 16/100\n",
      "186/186 [==============================] - 1s 3ms/step - loss: 0.0132 - val_loss: 0.0133\n",
      "Epoch 17/100\n",
      "186/186 [==============================] - 1s 3ms/step - loss: 0.0129 - val_loss: 0.0183\n",
      "Epoch 18/100\n",
      "186/186 [==============================] - 1s 4ms/step - loss: 0.0124 - val_loss: 0.0134\n",
      "Epoch 19/100\n",
      "186/186 [==============================] - 1s 3ms/step - loss: 0.0119 - val_loss: 0.0134\n",
      "Epoch 20/100\n",
      "186/186 [==============================] - 1s 3ms/step - loss: 0.0120 - val_loss: 0.0143\n",
      "Epoch 21/100\n",
      "186/186 [==============================] - 1s 3ms/step - loss: 0.0115 - val_loss: 0.0133\n",
      "Epoch 22/100\n",
      "186/186 [==============================] - 1s 4ms/step - loss: 0.0119 - val_loss: 0.0142\n",
      "Epoch 23/100\n",
      "186/186 [==============================] - 1s 3ms/step - loss: 0.0107 - val_loss: 0.0132\n",
      "Epoch 24/100\n",
      "186/186 [==============================] - 1s 4ms/step - loss: 0.0101 - val_loss: 0.0132\n",
      "Epoch 25/100\n",
      "186/186 [==============================] - 1s 4ms/step - loss: 0.0101 - val_loss: 0.0138\n",
      "Epoch 26/100\n",
      "186/186 [==============================] - 1s 4ms/step - loss: 0.0097 - val_loss: 0.0138\n",
      "Epoch 27/100\n",
      "186/186 [==============================] - 1s 3ms/step - loss: 0.0096 - val_loss: 0.0148\n",
      "Epoch 28/100\n",
      "186/186 [==============================] - 1s 4ms/step - loss: 0.0096 - val_loss: 0.0173\n",
      "Epoch 29/100\n",
      "186/186 [==============================] - 1s 3ms/step - loss: 0.0090 - val_loss: 0.0138\n",
      "Epoch 30/100\n",
      "186/186 [==============================] - 1s 3ms/step - loss: 0.0086 - val_loss: 0.0136\n",
      "Epoch 31/100\n",
      "186/186 [==============================] - 1s 4ms/step - loss: 0.0084 - val_loss: 0.0135\n",
      "Epoch 32/100\n",
      "186/186 [==============================] - 1s 3ms/step - loss: 0.0087 - val_loss: 0.0135\n",
      "Epoch 33/100\n",
      "186/186 [==============================] - 1s 3ms/step - loss: 0.0079 - val_loss: 0.0145\n",
      "Epoch 34/100\n",
      "186/186 [==============================] - 1s 4ms/step - loss: 0.0074 - val_loss: 0.0155\n",
      "Epoch 35/100\n",
      "186/186 [==============================] - 1s 4ms/step - loss: 0.0072 - val_loss: 0.0144\n",
      "Epoch 36/100\n",
      "186/186 [==============================] - 1s 3ms/step - loss: 0.0069 - val_loss: 0.0137\n",
      "Epoch 37/100\n",
      "186/186 [==============================] - 1s 3ms/step - loss: 0.0068 - val_loss: 0.0166\n",
      "Epoch 38/100\n",
      "186/186 [==============================] - 1s 3ms/step - loss: 0.0065 - val_loss: 0.0169\n",
      "Epoch 39/100\n",
      "186/186 [==============================] - 1s 3ms/step - loss: 0.0067 - val_loss: 0.0134\n",
      "Epoch 40/100\n",
      "186/186 [==============================] - 1s 3ms/step - loss: 0.0062 - val_loss: 0.0152\n",
      "Epoch 41/100\n",
      "186/186 [==============================] - 1s 3ms/step - loss: 0.0062 - val_loss: 0.0135\n",
      "Epoch 42/100\n",
      "186/186 [==============================] - 1s 3ms/step - loss: 0.0058 - val_loss: 0.0133\n",
      "Epoch 43/100\n",
      "186/186 [==============================] - 1s 3ms/step - loss: 0.0055 - val_loss: 0.0150\n",
      "Epoch 44/100\n",
      "186/186 [==============================] - 1s 3ms/step - loss: 0.0055 - val_loss: 0.0135\n",
      "Epoch 45/100\n",
      "186/186 [==============================] - 1s 3ms/step - loss: 0.0053 - val_loss: 0.0141\n",
      "Epoch 46/100\n",
      "186/186 [==============================] - 1s 3ms/step - loss: 0.0054 - val_loss: 0.0146\n",
      "Epoch 47/100\n",
      "186/186 [==============================] - 1s 3ms/step - loss: 0.0049 - val_loss: 0.0144\n",
      "Epoch 48/100\n",
      "186/186 [==============================] - 1s 3ms/step - loss: 0.0052 - val_loss: 0.0134\n",
      "Epoch 49/100\n",
      "186/186 [==============================] - 1s 3ms/step - loss: 0.0051 - val_loss: 0.0138\n",
      "Epoch 50/100\n",
      "186/186 [==============================] - 1s 3ms/step - loss: 0.0049 - val_loss: 0.0138\n",
      "Epoch 51/100\n",
      "186/186 [==============================] - 1s 3ms/step - loss: 0.0049 - val_loss: 0.0136\n",
      "Epoch 52/100\n",
      "186/186 [==============================] - 1s 4ms/step - loss: 0.0048 - val_loss: 0.0171\n",
      "Epoch 53/100\n",
      "186/186 [==============================] - 1s 3ms/step - loss: 0.0048 - val_loss: 0.0136\n",
      "Epoch 54/100\n",
      "186/186 [==============================] - 1s 3ms/step - loss: 0.0045 - val_loss: 0.0135\n",
      "Epoch 55/100\n",
      "186/186 [==============================] - 1s 3ms/step - loss: 0.0044 - val_loss: 0.0140\n",
      "Epoch 56/100\n",
      "186/186 [==============================] - 1s 3ms/step - loss: 0.0042 - val_loss: 0.0135\n",
      "Epoch 57/100\n",
      "186/186 [==============================] - 1s 3ms/step - loss: 0.0042 - val_loss: 0.0143\n",
      "Epoch 58/100\n",
      "186/186 [==============================] - 1s 3ms/step - loss: 0.0042 - val_loss: 0.0138\n",
      "Epoch 59/100\n",
      "186/186 [==============================] - 1s 3ms/step - loss: 0.0041 - val_loss: 0.0139\n",
      "Epoch 60/100\n",
      "186/186 [==============================] - 1s 3ms/step - loss: 0.0038 - val_loss: 0.0143\n",
      "Epoch 61/100\n",
      "186/186 [==============================] - 1s 3ms/step - loss: 0.0038 - val_loss: 0.0136\n",
      "Epoch 62/100\n",
      "186/186 [==============================] - 1s 3ms/step - loss: 0.0038 - val_loss: 0.0137\n",
      "Epoch 63/100\n",
      "186/186 [==============================] - 1s 3ms/step - loss: 0.0037 - val_loss: 0.0139\n",
      "Epoch 64/100\n",
      "186/186 [==============================] - 1s 3ms/step - loss: 0.0036 - val_loss: 0.0136\n",
      "Epoch 65/100\n",
      "186/186 [==============================] - 1s 3ms/step - loss: 0.0035 - val_loss: 0.0139\n",
      "Epoch 66/100\n",
      "186/186 [==============================] - 1s 3ms/step - loss: 0.0036 - val_loss: 0.0135\n",
      "Epoch 67/100\n",
      "186/186 [==============================] - 1s 3ms/step - loss: 0.0035 - val_loss: 0.0135\n",
      "Epoch 68/100\n",
      "186/186 [==============================] - 1s 3ms/step - loss: 0.0036 - val_loss: 0.0140\n",
      "Epoch 69/100\n",
      "186/186 [==============================] - 1s 3ms/step - loss: 0.0035 - val_loss: 0.0138\n",
      "Epoch 70/100\n",
      "186/186 [==============================] - 1s 3ms/step - loss: 0.0034 - val_loss: 0.0131\n",
      "Epoch 71/100\n",
      "186/186 [==============================] - 1s 3ms/step - loss: 0.0033 - val_loss: 0.0133\n",
      "Epoch 72/100\n",
      "186/186 [==============================] - 1s 3ms/step - loss: 0.0032 - val_loss: 0.0136\n",
      "Epoch 73/100\n",
      "186/186 [==============================] - 1s 3ms/step - loss: 0.0031 - val_loss: 0.0137\n",
      "Epoch 74/100\n",
      "186/186 [==============================] - 1s 3ms/step - loss: 0.0032 - val_loss: 0.0139\n",
      "Epoch 75/100\n",
      "186/186 [==============================] - 1s 3ms/step - loss: 0.0031 - val_loss: 0.0143\n",
      "Epoch 76/100\n",
      "186/186 [==============================] - 1s 3ms/step - loss: 0.0032 - val_loss: 0.0138\n",
      "Epoch 77/100\n",
      "186/186 [==============================] - 1s 3ms/step - loss: 0.0031 - val_loss: 0.0137\n",
      "Epoch 78/100\n",
      "186/186 [==============================] - 1s 4ms/step - loss: 0.0030 - val_loss: 0.0136\n",
      "Epoch 79/100\n",
      "186/186 [==============================] - 1s 3ms/step - loss: 0.0030 - val_loss: 0.0136\n",
      "Epoch 80/100\n",
      "186/186 [==============================] - 1s 3ms/step - loss: 0.0030 - val_loss: 0.0140\n",
      "Epoch 81/100\n",
      "186/186 [==============================] - 1s 3ms/step - loss: 0.0028 - val_loss: 0.0134\n",
      "Epoch 82/100\n",
      "186/186 [==============================] - 1s 3ms/step - loss: 0.0029 - val_loss: 0.0141\n",
      "Epoch 83/100\n",
      "186/186 [==============================] - 1s 3ms/step - loss: 0.0029 - val_loss: 0.0135\n",
      "Epoch 84/100\n",
      "186/186 [==============================] - 1s 3ms/step - loss: 0.0029 - val_loss: 0.0134\n",
      "Epoch 85/100\n",
      "186/186 [==============================] - 1s 3ms/step - loss: 0.0027 - val_loss: 0.0136\n",
      "Epoch 86/100\n",
      "186/186 [==============================] - 1s 3ms/step - loss: 0.0028 - val_loss: 0.0131\n",
      "Epoch 87/100\n",
      "186/186 [==============================] - 1s 3ms/step - loss: 0.0026 - val_loss: 0.0133\n",
      "Epoch 88/100\n",
      "186/186 [==============================] - 1s 3ms/step - loss: 0.0027 - val_loss: 0.0134\n",
      "Epoch 89/100\n",
      "186/186 [==============================] - 1s 3ms/step - loss: 0.0025 - val_loss: 0.0136\n",
      "Epoch 90/100\n",
      "186/186 [==============================] - 1s 3ms/step - loss: 0.0025 - val_loss: 0.0133\n",
      "Epoch 91/100\n",
      "186/186 [==============================] - 1s 3ms/step - loss: 0.0026 - val_loss: 0.0138\n",
      "Epoch 92/100\n",
      "186/186 [==============================] - 1s 4ms/step - loss: 0.0026 - val_loss: 0.0134\n",
      "Epoch 93/100\n",
      "186/186 [==============================] - 1s 3ms/step - loss: 0.0025 - val_loss: 0.0134\n",
      "Epoch 94/100\n",
      "186/186 [==============================] - 1s 3ms/step - loss: 0.0025 - val_loss: 0.0132\n",
      "Epoch 95/100\n",
      "186/186 [==============================] - 1s 3ms/step - loss: 0.0025 - val_loss: 0.0136\n",
      "Epoch 96/100\n",
      "186/186 [==============================] - 1s 3ms/step - loss: 0.0026 - val_loss: 0.0137\n",
      "Epoch 97/100\n",
      "186/186 [==============================] - 1s 3ms/step - loss: 0.0024 - val_loss: 0.0130\n",
      "Epoch 98/100\n",
      "186/186 [==============================] - 1s 3ms/step - loss: 0.0025 - val_loss: 0.0133\n",
      "Epoch 99/100\n",
      "186/186 [==============================] - 1s 3ms/step - loss: 0.0024 - val_loss: 0.0134\n",
      "Epoch 100/100\n",
      "186/186 [==============================] - 1s 3ms/step - loss: 0.0024 - val_loss: 0.0132\n"
     ]
    },
    {
     "data": {
      "text/plain": [
       "<keras.callbacks.History at 0x1fbad5038e0>"
      ]
     },
     "execution_count": 58,
     "metadata": {},
     "output_type": "execute_result"
    }
   ],
   "source": [
    "model.fit(x_train, y=y_train.ravel(), batch_size=64, \n",
    "          epochs=100, verbose=1, \n",
    "          validation_data=(x_valid, y_valid.ravel()))"
   ]
  },
  {
   "cell_type": "code",
   "execution_count": 59,
   "metadata": {},
   "outputs": [],
   "source": [
    "pred_nn = model.predict(x_valid)"
   ]
  },
  {
   "cell_type": "code",
   "execution_count": 60,
   "metadata": {},
   "outputs": [],
   "source": [
    "def R_squared(y, y_pred):\n",
    "  residual = tf.reduce_sum(tf.square(tf.subtract(y, y_pred)))\n",
    "  total = tf.reduce_sum(tf.square(tf.subtract(y, tf.reduce_mean(y))))\n",
    "  r2 = tf.subtract(1.0, tf.truediv(residual, total))\n",
    "  return r2"
   ]
  },
  {
   "cell_type": "code",
   "execution_count": 61,
   "metadata": {},
   "outputs": [
    {
     "name": "stdout",
     "output_type": "stream",
     "text": [
      "tf.Tensor(0.22562951471312076, shape=(), dtype=float64)\n"
     ]
    }
   ],
   "source": [
    "print(R_squared(y_valid.values, pred_nn.ravel()))"
   ]
  }
 ],
 "metadata": {
  "interpreter": {
   "hash": "9e6fe232ec1802e04813a62eadbd4a033db6fcefdd78d84705bbb38e45fcef4a"
  },
  "kernelspec": {
   "display_name": "Python 3.9.7 64-bit",
   "name": "python3"
  },
  "language_info": {
   "codemirror_mode": {
    "name": "ipython",
    "version": 3
   },
   "file_extension": ".py",
   "mimetype": "text/x-python",
   "name": "python",
   "nbconvert_exporter": "python",
   "pygments_lexer": "ipython3",
   "version": "3.9.7"
  },
  "orig_nbformat": 4
 },
 "nbformat": 4,
 "nbformat_minor": 2
}
