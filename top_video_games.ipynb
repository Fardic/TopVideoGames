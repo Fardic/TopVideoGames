{
 "cells": [
  {
   "cell_type": "code",
   "execution_count": 1,
   "metadata": {},
   "outputs": [],
   "source": [
    "import pandas as pd\n",
    "from sqlite3 import connect\n",
    "import numpy as np\n",
    "from sklearn.feature_extraction.text import CountVectorizer\n",
    "from sklearn.cluster import KMeans\n",
    "from sklearn import preprocessing\n",
    "from keras.utils.np_utils import to_categorical\n",
    "from sklearn.model_selection import train_test_split\n",
    "from sklearn import decomposition\n",
    "from keras.models import Sequential\n",
    "from keras.layers.core import Dense, Activation, Dropout\n",
    "from keras.layers.normalization import batch_normalization\n",
    "from tensorflow.keras.metrics import CategoricalAccuracy, AUC\n",
    "from tensorflow_addons.metrics import F1Score   \n",
    "import tqdm\n",
    "\n"
   ]
  },
  {
   "cell_type": "code",
   "execution_count": 2,
   "metadata": {},
   "outputs": [],
   "source": [
    "conn = connect(\"data/dataset_review.db\")\n",
    "dataset = pd.read_sql(\"SELECT * FROM games\", conn)\n",
    "conn.close()\n",
    "\n",
    "dataset.set_index(\"index\", inplace=True)\n",
    "dataset = dataset.loc[dataset[\"summary\"].notnull()]\n",
    "dataset = dataset.loc[dataset[\"reviews\"].notnull()]\n",
    "dataset = dataset[dataset[\"user_review\"] != -1]\n",
    "dataset.reset_index(drop=True, inplace=True)"
   ]
  },
  {
   "cell_type": "code",
   "execution_count": 3,
   "metadata": {},
   "outputs": [],
   "source": [
    "# tfv = CountVectorizer(analyzer='word',stop_words = 'english', lowercase=True)\n",
    "# tfv.fit(dataset[\"summary\"])\n",
    "# summary = tfv.transform(dataset[\"summary\"])\n",
    "# kmeans = KMeans(n_clusters=30, random_state=7).fit(summary)\n",
    "# summary_kmeans = np.array(kmeans.labels_)\n",
    "# np.save(\"data/summary_kmeans.npy\", summary_kmeans)\n",
    "\n",
    "summary_kmeans = np.load(\"data/summary_kmeans.npy\", allow_pickle=True)"
   ]
  },
  {
   "cell_type": "code",
   "execution_count": 4,
   "metadata": {},
   "outputs": [],
   "source": [
    "categorical_labels = to_categorical(summary_kmeans, num_classes=30)\n",
    "dataset = pd.concat([dataset, pd.DataFrame(categorical_labels, columns=[\"summary_kmean_\" + str(i) for i in range(30)])], axis=1)\n",
    "y = pd.get_dummies((dataset[\"user_review\"] * 10).apply(np.floor, axis=1), prefix='label')\n",
    "x = dataset.drop(columns=[\"user_review\"])"
   ]
  },
  {
   "cell_type": "code",
   "execution_count": 5,
   "metadata": {},
   "outputs": [],
   "source": [
    "count_vec = CountVectorizer(analyzer='word', stop_words = 'english')\n",
    "word_vecs = count_vec.fit_transform(dataset[\"reviews\"].values).toarray()\n"
   ]
  },
  {
   "cell_type": "code",
   "execution_count": 6,
   "metadata": {},
   "outputs": [],
   "source": [
    "def word_seperator(data, vectorizer, word_list):\n",
    "    temp_list = [vectorizer.vocabulary_[word] for word in word_list]\n",
    "    return data[:, temp_list]"
   ]
  },
  {
   "cell_type": "code",
   "execution_count": 7,
   "metadata": {},
   "outputs": [],
   "source": [
    "glove = pd.read_csv('data/glove.840B.300d.txt', sep=\" \", header=None)\n",
    "glove.set_index(0, inplace=True)\n",
    "glove = glove.filter(items=count_vec.get_feature_names_out(), axis=0)\n",
    "word_vecs = word_seperator(data=word_vecs, vectorizer=count_vec, word_list=glove.index)"
   ]
  },
  {
   "cell_type": "code",
   "execution_count": 8,
   "metadata": {},
   "outputs": [],
   "source": [
    "# sc = preprocessing.StandardScaler(with_mean=False)\n",
    "# svd = decomposition.TruncatedSVD(n_components=700)\n",
    "# svd_word_vecs = svd.fit_transform(sc.fit_transform(word_vecs))\n",
    "\n",
    "x.drop(columns=[\"name\", \"summary\", \"reviews\"], inplace=True)\n",
    "\n",
    "x = pd.concat([x, pd.DataFrame(word_vecs.dot(glove)), pd.get_dummies(x.platform, prefix='plat')], axis=1)\n",
    "x.drop(columns=[\"platform\", \"publish_year\", \"publish_month\"], inplace=True)"
   ]
  },
  {
   "cell_type": "code",
   "execution_count": 9,
   "metadata": {},
   "outputs": [],
   "source": [
    "x_train, x_valid, y_train, y_valid = train_test_split(x, y, random_state=7, test_size=0.2, shuffle=True)"
   ]
  },
  {
   "cell_type": "code",
   "execution_count": 10,
   "metadata": {},
   "outputs": [],
   "source": [
    "model = Sequential()\n",
    "\n",
    "model.add(Dense(300, input_dim=x_train.shape[1], activation='relu'))\n",
    "model.add(Dropout(0.2))\n",
    "model.add(batch_normalization.BatchNormalization())\n",
    "\n",
    "model.add(Dense(300, activation='relu'))\n",
    "model.add(Dropout(0.2))\n",
    "model.add(batch_normalization.BatchNormalization())\n",
    "\n",
    "\n",
    "model.add(Dense(len(y.columns)))\n",
    "model.add(Activation('softmax'))\n",
    "\n",
    "model.compile(loss='categorical_crossentropy', optimizer='adam', metrics=[CategoricalAccuracy(), F1Score(len(y.columns))])"
   ]
  },
  {
   "cell_type": "code",
   "execution_count": 11,
   "metadata": {},
   "outputs": [
    {
     "name": "stdout",
     "output_type": "stream",
     "text": [
      "Epoch 1/20\n",
      "186/186 [==============================] - 2s 5ms/step - loss: 2.1549 - categorical_accuracy: 0.2797 - f1_score: 0.1084 - val_loss: 1.6379 - val_categorical_accuracy: 0.3813 - val_f1_score: 0.0893\n",
      "Epoch 2/20\n",
      "186/186 [==============================] - 1s 4ms/step - loss: 1.6342 - categorical_accuracy: 0.3782 - f1_score: 0.1248 - val_loss: 1.5747 - val_categorical_accuracy: 0.3941 - val_f1_score: 0.0972\n",
      "Epoch 3/20\n",
      "186/186 [==============================] - 1s 4ms/step - loss: 1.5258 - categorical_accuracy: 0.4069 - f1_score: 0.1449 - val_loss: 1.5518 - val_categorical_accuracy: 0.3914 - val_f1_score: 0.0977\n",
      "Epoch 4/20\n",
      "186/186 [==============================] - 1s 4ms/step - loss: 1.4615 - categorical_accuracy: 0.4247 - f1_score: 0.1648 - val_loss: 1.5340 - val_categorical_accuracy: 0.3948 - val_f1_score: 0.1348\n",
      "Epoch 5/20\n",
      "186/186 [==============================] - 1s 4ms/step - loss: 1.4070 - categorical_accuracy: 0.4425 - f1_score: 0.1945 - val_loss: 1.5202 - val_categorical_accuracy: 0.4096 - val_f1_score: 0.1402\n",
      "Epoch 6/20\n",
      "186/186 [==============================] - 1s 4ms/step - loss: 1.3555 - categorical_accuracy: 0.4570 - f1_score: 0.2047 - val_loss: 1.5046 - val_categorical_accuracy: 0.4154 - val_f1_score: 0.1441\n",
      "Epoch 7/20\n",
      "186/186 [==============================] - 1s 4ms/step - loss: 1.3162 - categorical_accuracy: 0.4813 - f1_score: 0.2794 - val_loss: 1.5440 - val_categorical_accuracy: 0.4103 - val_f1_score: 0.1510\n",
      "Epoch 8/20\n",
      "186/186 [==============================] - 1s 4ms/step - loss: 1.2864 - categorical_accuracy: 0.4871 - f1_score: 0.2919 - val_loss: 1.5060 - val_categorical_accuracy: 0.4103 - val_f1_score: 0.1516\n",
      "Epoch 9/20\n",
      "186/186 [==============================] - 1s 4ms/step - loss: 1.2383 - categorical_accuracy: 0.5081 - f1_score: 0.2849 - val_loss: 1.5376 - val_categorical_accuracy: 0.4093 - val_f1_score: 0.1269\n",
      "Epoch 10/20\n",
      "186/186 [==============================] - 1s 4ms/step - loss: 1.2082 - categorical_accuracy: 0.5183 - f1_score: 0.3406 - val_loss: 1.5367 - val_categorical_accuracy: 0.4019 - val_f1_score: 0.1486\n",
      "Epoch 11/20\n",
      "186/186 [==============================] - 1s 4ms/step - loss: 1.1816 - categorical_accuracy: 0.5330 - f1_score: 0.3914 - val_loss: 1.5591 - val_categorical_accuracy: 0.4113 - val_f1_score: 0.1415\n",
      "Epoch 12/20\n",
      "186/186 [==============================] - 1s 4ms/step - loss: 1.1571 - categorical_accuracy: 0.5435 - f1_score: 0.3921 - val_loss: 1.5753 - val_categorical_accuracy: 0.4036 - val_f1_score: 0.1573\n",
      "Epoch 13/20\n",
      "186/186 [==============================] - 1s 4ms/step - loss: 1.1178 - categorical_accuracy: 0.5570 - f1_score: 0.4446 - val_loss: 1.5846 - val_categorical_accuracy: 0.4053 - val_f1_score: 0.1336\n",
      "Epoch 14/20\n",
      "186/186 [==============================] - 1s 4ms/step - loss: 1.1184 - categorical_accuracy: 0.5521 - f1_score: 0.4367 - val_loss: 1.5846 - val_categorical_accuracy: 0.4174 - val_f1_score: 0.1613\n",
      "Epoch 15/20\n",
      "186/186 [==============================] - 1s 4ms/step - loss: 1.0801 - categorical_accuracy: 0.5698 - f1_score: 0.4832 - val_loss: 1.6010 - val_categorical_accuracy: 0.4046 - val_f1_score: 0.1364\n",
      "Epoch 16/20\n",
      "186/186 [==============================] - 1s 4ms/step - loss: 1.0568 - categorical_accuracy: 0.5842 - f1_score: 0.4859 - val_loss: 1.6232 - val_categorical_accuracy: 0.4096 - val_f1_score: 0.1679\n",
      "Epoch 17/20\n",
      "186/186 [==============================] - 1s 4ms/step - loss: 1.0274 - categorical_accuracy: 0.5983 - f1_score: 0.5319 - val_loss: 1.6443 - val_categorical_accuracy: 0.4103 - val_f1_score: 0.1676\n",
      "Epoch 18/20\n",
      "186/186 [==============================] - 1s 4ms/step - loss: 1.0012 - categorical_accuracy: 0.6027 - f1_score: 0.5263 - val_loss: 1.6276 - val_categorical_accuracy: 0.4123 - val_f1_score: 0.1425\n",
      "Epoch 19/20\n",
      "186/186 [==============================] - 1s 4ms/step - loss: 0.9790 - categorical_accuracy: 0.6093 - f1_score: 0.4994 - val_loss: 1.6367 - val_categorical_accuracy: 0.4130 - val_f1_score: 0.1558\n",
      "Epoch 20/20\n",
      "186/186 [==============================] - 1s 4ms/step - loss: 0.9659 - categorical_accuracy: 0.6212 - f1_score: 0.5794 - val_loss: 1.6696 - val_categorical_accuracy: 0.4019 - val_f1_score: 0.1750\n"
     ]
    },
    {
     "data": {
      "text/plain": [
       "<keras.callbacks.History at 0x1b10af9bdc0>"
      ]
     },
     "execution_count": 11,
     "metadata": {},
     "output_type": "execute_result"
    }
   ],
   "source": [
    "model.fit(x_train, y=y_train, batch_size=64, \n",
    "          epochs=20, verbose=1, \n",
    "          validation_data=(x_valid, y_valid))"
   ]
  }
 ],
 "metadata": {
  "interpreter": {
   "hash": "9e6fe232ec1802e04813a62eadbd4a033db6fcefdd78d84705bbb38e45fcef4a"
  },
  "kernelspec": {
   "display_name": "Python 3.9.7 64-bit",
   "name": "python3"
  },
  "language_info": {
   "codemirror_mode": {
    "name": "ipython",
    "version": 3
   },
   "file_extension": ".py",
   "mimetype": "text/x-python",
   "name": "python",
   "nbconvert_exporter": "python",
   "pygments_lexer": "ipython3",
   "version": "3.9.7"
  },
  "orig_nbformat": 4
 },
 "nbformat": 4,
 "nbformat_minor": 2
}
