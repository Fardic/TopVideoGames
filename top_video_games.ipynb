{
 "cells": [
  {
   "cell_type": "markdown",
   "metadata": {},
   "source": [
    "# Kaggle Top Video Games 1995-2021 Notebook\n",
    "\n",
    "## The aim of the assignment is to find user_reviews using the given dataset.\n",
    "\n",
    "### First, we import our necessary libraries."
   ]
  },
  {
   "cell_type": "code",
   "execution_count": 1,
   "metadata": {},
   "outputs": [],
   "source": [
    "import pandas as pd\n",
    "from sqlite3 import connect\n",
    "import numpy as np\n",
    "from sklearn.feature_extraction.text import CountVectorizer\n",
    "from sklearn.cluster import KMeans\n",
    "from sklearn import preprocessing\n",
    "from keras.utils.np_utils import to_categorical\n",
    "from sklearn.model_selection import train_test_split\n",
    "from sklearn import decomposition\n",
    "from keras.models import Sequential\n",
    "from keras.layers.core import Dense, Activation, Dropout\n",
    "from keras.layers.normalization import batch_normalization\n",
    "import tensorflow\n",
    "from tensorflow_addons.metrics import RSquare\n",
    "from sklearn.preprocessing import StandardScaler\n",
    "import matplotlib.pyplot as plt\n",
    "from matplotlib import rcParams\n",
    "from keras.backend import clear_session\n"
   ]
  },
  {
   "cell_type": "markdown",
   "metadata": {},
   "source": [
    "### We will use CountVectorizer from sklearn for our summary and reviews(Scraping code is also in the project) data. Below function allows us to choose only the words we want in the dataset."
   ]
  },
  {
   "cell_type": "code",
   "execution_count": 2,
   "metadata": {},
   "outputs": [],
   "source": [
    "def word_seperator(data, vectorizer, word_list):\n",
    "    temp_list = [vectorizer.vocabulary_[word] for word in word_list.values]\n",
    "    return data[:, temp_list]"
   ]
  },
  {
   "cell_type": "markdown",
   "metadata": {},
   "source": [
    "### Dataset was transformed into sqlite dataset. We need to import them and remove the rows that are unknown."
   ]
  },
  {
   "cell_type": "code",
   "execution_count": 3,
   "metadata": {},
   "outputs": [],
   "source": [
    "conn = connect(\"data/dataset_review.db\")\n",
    "dataset = pd.read_sql(\"SELECT * FROM games\", conn)\n",
    "conn.close()\n",
    "\n",
    "dataset.set_index(\"index\", inplace=True)\n",
    "dataset = dataset.loc[dataset[\"summary\"].notnull()]\n",
    "dataset = dataset.loc[dataset[\"reviews\"].notnull()]\n",
    "dataset = dataset[dataset[\"user_review\"] != -1]\n",
    "dataset.reset_index(drop=True, inplace=True)"
   ]
  },
  {
   "cell_type": "markdown",
   "metadata": {},
   "source": [
    "### Now, we will use CountVectorizer to make a dataframe out of summary. Then, we use GLOVE word matrix so that our model can also understand some relations between words. After that we use KMeans algorithm that will categorize the summaries by their similarities. With this method, we aim to differ games by their categories.\n",
    "### Note that this is a long process so that we also save the labels of KMeans. "
   ]
  },
  {
   "cell_type": "code",
   "execution_count": 4,
   "metadata": {},
   "outputs": [],
   "source": [
    "# tfv = CountVectorizer(analyzer='word',stop_words = 'english', lowercase=True)\n",
    "# tfv.fit(dataset[\"summary\"])\n",
    "# summary = tfv.transform(dataset[\"summary\"]).toarray()\n",
    "\n",
    "# glove = pd.read_csv('data/glove.840B.300d.txt', sep=\" \", header=None)\n",
    "# glove.set_index(0, inplace=True)\n",
    "# glove = glove.filter(items=tfv.get_feature_names_out(), axis=0)\n",
    "# summary = word_seperator(data=summary, vectorizer=tfv, word_list=glove.index)\n",
    "\n",
    "\n",
    "# kmeans = KMeans(n_clusters=30, random_state=7).fit(pd.DataFrame(summary.dot(glove)))\n",
    "# del glove\n",
    "\n",
    "# summary_kmeans = np.array(kmeans.labels_)\n",
    "# del kmeans\n",
    "# np.save(\"data/summary_kmeans.npy\", summary_kmeans)\n",
    "\n",
    "summary_kmeans = np.load(\"data/summary_kmeans.npy\", allow_pickle=True)"
   ]
  },
  {
   "cell_type": "markdown",
   "metadata": {},
   "source": [
    "### We need to implement CountVectorizer and GLOVE process to reviews as well. "
   ]
  },
  {
   "cell_type": "code",
   "execution_count": 5,
   "metadata": {},
   "outputs": [],
   "source": [
    "# count_vec = CountVectorizer(analyzer='word',token_pattern=r'\\w{1,}', stop_words = 'english')\n",
    "# word_vecs = count_vec.fit_transform(dataset[\"reviews\"].values).toarray()\n",
    "# glove = pd.read_csv('data/glove.840B.300d.txt', sep=\" \", header=None)\n",
    "# glove.set_index(0, inplace=True)\n",
    "# glove = glove.filter(items=count_vec.get_feature_names_out(), axis=0)\n",
    "# word_vecs = word_seperator(data=word_vecs, vectorizer=count_vec, word_list=glove.index)\n",
    "\n",
    "# reviews = word_vecs.dot(glove)\n",
    "# np.save(\"data/reviews_glove.npy\", reviews)\n",
    "\n",
    "reviews = np.load(\"data/reviews_glove.npy\", allow_pickle=True)"
   ]
  },
  {
   "cell_type": "markdown",
   "metadata": {},
   "source": [
    "### Now, it's time to seperate the dataset as features and labels."
   ]
  },
  {
   "cell_type": "code",
   "execution_count": 6,
   "metadata": {},
   "outputs": [],
   "source": [
    "categorical_labels = to_categorical(summary_kmeans, num_classes=30)\n",
    "dataset = pd.concat([dataset, pd.DataFrame(categorical_labels, columns=[\"summary_kmean_\" + str(i) for i in range(30)])], axis=1)\n",
    "y = dataset[\"user_review\"]\n",
    "x = dataset.drop(columns=[\"user_review\"])"
   ]
  },
  {
   "cell_type": "markdown",
   "metadata": {},
   "source": [
    "### We also need to add reviews and summary results to the dataset. After, a standardization process is implemented. Te reason is that, we want to reduce the number of dimensions of features. Before using SVD for that reason, we need to standardize the dataset."
   ]
  },
  {
   "cell_type": "code",
   "execution_count": 7,
   "metadata": {},
   "outputs": [
    {
     "name": "stderr",
     "output_type": "stream",
     "text": [
      "E:\\Python39\\lib\\site-packages\\sklearn\\utils\\validation.py:1673: FutureWarning: Feature names only support names that are all strings. Got feature names with dtypes: ['int', 'str']. An error will be raised in 1.2.\n",
      "  warnings.warn(\n",
      "E:\\Python39\\lib\\site-packages\\sklearn\\utils\\validation.py:1673: FutureWarning: Feature names only support names that are all strings. Got feature names with dtypes: ['int', 'str']. An error will be raised in 1.2.\n",
      "  warnings.warn(\n"
     ]
    }
   ],
   "source": [
    "x.drop(columns=[\"name\", \"summary\", \"reviews\"], inplace=True)\n",
    "\n",
    "x = pd.concat([x, pd.DataFrame(reviews), pd.get_dummies(x.platform, prefix='plat')], axis=1)\n",
    "x.drop(columns=[\"platform\", \"publish_year\", \"publish_month\"], inplace=True)\n",
    "\n",
    "x = StandardScaler().fit_transform(x)\n",
    "\n",
    "svd = decomposition.TruncatedSVD(n_components=200, n_iter=7, random_state=7)\n",
    "x = svd.fit_transform(x)"
   ]
  },
  {
   "cell_type": "markdown",
   "metadata": {},
   "source": [
    "### We also need to seperate dataset into training and test dataset for evaluation of the model."
   ]
  },
  {
   "cell_type": "code",
   "execution_count": 8,
   "metadata": {},
   "outputs": [],
   "source": [
    "x_train, x_valid, y_train, y_valid = train_test_split(x, y, random_state=7, test_size=0.2, shuffle=True)"
   ]
  },
  {
   "cell_type": "markdown",
   "metadata": {},
   "source": [
    "### Our model is an Deep Neural Network with RELU activation function for first three layers and sigmoid for the final layer. Even though this is a regression problem, our output is between 0 and 1 which makes sigmoid as an acceptable activation function. We also need to add Dropout layers for avoiding the overfitting problem."
   ]
  },
  {
   "cell_type": "code",
   "execution_count": 9,
   "metadata": {},
   "outputs": [],
   "source": [
    "model = Sequential()\n",
    "\n",
    "model.add(Dense(256, input_dim=x_train.shape[1], activation='relu'))\n",
    "model.add(Dropout(0.2))\n",
    "model.add(batch_normalization.BatchNormalization())\n",
    "\n",
    "model.add(Dense(256, activation='relu'))\n",
    "model.add(Dropout(0.2))\n",
    "model.add(batch_normalization.BatchNormalization())\n",
    "\n",
    "model.add(Dense(256, activation='relu'))\n",
    "model.add(Dropout(0.2))\n",
    "model.add(batch_normalization.BatchNormalization())\n",
    "\n",
    "model.add(Dense(256, activation='relu'))\n",
    "model.add(Dropout(0.2))\n",
    "model.add(batch_normalization.BatchNormalization())\n",
    "\n",
    "\n",
    "model.add(Dense(1))\n",
    "model.add(Activation('sigmoid'))\n",
    "\n",
    "model.compile(loss=\"mean_squared_logarithmic_error\", optimizer=tensorflow.keras.optimizers.Adam(), metrics=[tensorflow.keras.metrics.RootMeanSquaredError(), RSquare(dtype=tensorflow.float32, y_shape=(1,))])"
   ]
  },
  {
   "cell_type": "markdown",
   "metadata": {},
   "source": [
    "### The model will be trained for 20 epochs with adam optimizer using 64 mini batch size. "
   ]
  },
  {
   "cell_type": "code",
   "execution_count": 10,
   "metadata": {},
   "outputs": [
    {
     "name": "stdout",
     "output_type": "stream",
     "text": [
      "Epoch 1/20\n",
      "186/186 [==============================] - 2s 6ms/step - loss: 0.0169 - root_mean_squared_error: 0.2061 - r_square: -1.5162 - val_loss: 0.0072 - val_root_mean_squared_error: 0.1389 - val_r_square: -0.1341\n",
      "Epoch 2/20\n",
      "186/186 [==============================] - 1s 4ms/step - loss: 0.0082 - root_mean_squared_error: 0.1486 - r_square: -0.3075 - val_loss: 0.0061 - val_root_mean_squared_error: 0.1273 - val_r_square: 0.0485\n",
      "Epoch 3/20\n",
      "186/186 [==============================] - 1s 5ms/step - loss: 0.0069 - root_mean_squared_error: 0.1350 - r_square: -0.0788 - val_loss: 0.0058 - val_root_mean_squared_error: 0.1237 - val_r_square: 0.1018\n",
      "Epoch 4/20\n",
      "186/186 [==============================] - 1s 5ms/step - loss: 0.0060 - root_mean_squared_error: 0.1254 - r_square: 0.0694 - val_loss: 0.0052 - val_root_mean_squared_error: 0.1164 - val_r_square: 0.2034\n",
      "Epoch 5/20\n",
      "186/186 [==============================] - 1s 4ms/step - loss: 0.0053 - root_mean_squared_error: 0.1178 - r_square: 0.1781 - val_loss: 0.0045 - val_root_mean_squared_error: 0.1071 - val_r_square: 0.3257\n",
      "Epoch 6/20\n",
      "186/186 [==============================] - 1s 4ms/step - loss: 0.0051 - root_mean_squared_error: 0.1151 - r_square: 0.2155 - val_loss: 0.0045 - val_root_mean_squared_error: 0.1060 - val_r_square: 0.3394\n",
      "Epoch 7/20\n",
      "186/186 [==============================] - 1s 4ms/step - loss: 0.0048 - root_mean_squared_error: 0.1112 - r_square: 0.2674 - val_loss: 0.0045 - val_root_mean_squared_error: 0.1070 - val_r_square: 0.3275\n",
      "Epoch 8/20\n",
      "186/186 [==============================] - 1s 4ms/step - loss: 0.0046 - root_mean_squared_error: 0.1094 - r_square: 0.2905 - val_loss: 0.0043 - val_root_mean_squared_error: 0.1047 - val_r_square: 0.3563\n",
      "Epoch 9/20\n",
      "186/186 [==============================] - 1s 4ms/step - loss: 0.0044 - root_mean_squared_error: 0.1071 - r_square: 0.3207 - val_loss: 0.0045 - val_root_mean_squared_error: 0.1077 - val_r_square: 0.3182\n",
      "Epoch 10/20\n",
      "186/186 [==============================] - 1s 4ms/step - loss: 0.0043 - root_mean_squared_error: 0.1053 - r_square: 0.3430 - val_loss: 0.0042 - val_root_mean_squared_error: 0.1033 - val_r_square: 0.3735\n",
      "Epoch 11/20\n",
      "186/186 [==============================] - 1s 4ms/step - loss: 0.0042 - root_mean_squared_error: 0.1037 - r_square: 0.3630 - val_loss: 0.0045 - val_root_mean_squared_error: 0.1065 - val_r_square: 0.3336\n",
      "Epoch 12/20\n",
      "186/186 [==============================] - 1s 4ms/step - loss: 0.0040 - root_mean_squared_error: 0.1022 - r_square: 0.3819 - val_loss: 0.0042 - val_root_mean_squared_error: 0.1030 - val_r_square: 0.3771\n",
      "Epoch 13/20\n",
      "186/186 [==============================] - 1s 4ms/step - loss: 0.0039 - root_mean_squared_error: 0.1008 - r_square: 0.3978 - val_loss: 0.0043 - val_root_mean_squared_error: 0.1038 - val_r_square: 0.3671\n",
      "Epoch 14/20\n",
      "186/186 [==============================] - 1s 4ms/step - loss: 0.0039 - root_mean_squared_error: 0.0998 - r_square: 0.4098 - val_loss: 0.0043 - val_root_mean_squared_error: 0.1040 - val_r_square: 0.3647\n",
      "Epoch 15/20\n",
      "186/186 [==============================] - 1s 4ms/step - loss: 0.0038 - root_mean_squared_error: 0.0987 - r_square: 0.4226 - val_loss: 0.0042 - val_root_mean_squared_error: 0.1035 - val_r_square: 0.3712\n",
      "Epoch 16/20\n",
      "186/186 [==============================] - 1s 4ms/step - loss: 0.0037 - root_mean_squared_error: 0.0975 - r_square: 0.4369 - val_loss: 0.0043 - val_root_mean_squared_error: 0.1050 - val_r_square: 0.3528\n",
      "Epoch 17/20\n",
      "186/186 [==============================] - 1s 4ms/step - loss: 0.0036 - root_mean_squared_error: 0.0969 - r_square: 0.4435 - val_loss: 0.0041 - val_root_mean_squared_error: 0.1023 - val_r_square: 0.3856\n",
      "Epoch 18/20\n",
      "186/186 [==============================] - 1s 4ms/step - loss: 0.0036 - root_mean_squared_error: 0.0960 - r_square: 0.4536 - val_loss: 0.0041 - val_root_mean_squared_error: 0.1025 - val_r_square: 0.3831\n",
      "Epoch 19/20\n",
      "186/186 [==============================] - 1s 4ms/step - loss: 0.0035 - root_mean_squared_error: 0.0956 - r_square: 0.4588 - val_loss: 0.0041 - val_root_mean_squared_error: 0.1026 - val_r_square: 0.3819\n",
      "Epoch 20/20\n",
      "186/186 [==============================] - 1s 4ms/step - loss: 0.0035 - root_mean_squared_error: 0.0956 - r_square: 0.4590 - val_loss: 0.0042 - val_root_mean_squared_error: 0.1036 - val_r_square: 0.3701\n"
     ]
    }
   ],
   "source": [
    "model_history = model.fit(x_train, y=y_train, batch_size=64, \n",
    "          epochs=20, verbose=1, \n",
    "          validation_data=(x_valid, y_valid))"
   ]
  },
  {
   "cell_type": "markdown",
   "metadata": {},
   "source": [
    "### Results are not very promising. However, we can see that the model learns since both validation and training errors decrease gradually. We can also see the effects of learning in the rsquare value as well. Let's also visualize the training and validation rsquare to see at which epoch model reachs its limit."
   ]
  },
  {
   "cell_type": "code",
   "execution_count": 11,
   "metadata": {},
   "outputs": [
    {
     "data": {
      "text/plain": [
       "<matplotlib.legend.Legend at 0x20a8f9eaf40>"
      ]
     },
     "execution_count": 11,
     "metadata": {},
     "output_type": "execute_result"
    },
    {
     "data": {
      "image/png": "[encoded data removed]",
      "text/plain": [
       "<Figure size 1296x576 with 1 Axes>"
      ]
     },
     "metadata": {
      "needs_background": "light"
     },
     "output_type": "display_data"
    }
   ],
   "source": [
    "rcParams['figure.figsize'] = (18, 8)\n",
    "rcParams['axes.spines.top'] = False\n",
    "rcParams['axes.spines.right'] = False \n",
    "\n",
    "plt.plot(\n",
    "    np.arange(1, 21), \n",
    "    model_history.history['val_r_square'], \n",
    "    label='val_r_square', lw=3\n",
    ")\n",
    "plt.plot(\n",
    "    np.arange(1, 21), \n",
    "    model_history.history['r_square'], \n",
    "    label='r_square', lw=3\n",
    ")\n",
    "\n",
    "plt.title('Evaluation metrics', size=20)\n",
    "plt.xlabel('Epoch', size=14)\n",
    "plt.legend()"
   ]
  },
  {
   "cell_type": "markdown",
   "metadata": {},
   "source": [
    "### We observe that both rsquare values increases at the first. However, after some time, validation rsquare value begins to decrease due to overfitting. We may choose epoch number to use near the intersection of these two lines. Now, Let's see some of our predictions and true labels for comparison."
   ]
  },
  {
   "cell_type": "code",
   "execution_count": 12,
   "metadata": {},
   "outputs": [
    {
     "data": {
      "text/plain": [
       "[(array([0.75282615], dtype=float32), 0.82),\n",
       " (array([0.7083591], dtype=float32), 0.8),\n",
       " (array([0.71659875], dtype=float32), 0.74),\n",
       " (array([0.5966333], dtype=float32), 0.7),\n",
       " (array([0.77323055], dtype=float32), 0.85),\n",
       " (array([0.6937376], dtype=float32), 0.78),\n",
       " (array([0.6405033], dtype=float32), 0.75),\n",
       " (array([0.71030885], dtype=float32), 0.7),\n",
       " (array([0.7484397], dtype=float32), 0.8099999999999999),\n",
       " (array([0.63319564], dtype=float32), 0.6599999999999999),\n",
       " (array([0.59979165], dtype=float32), 0.64),\n",
       " (array([0.49819756], dtype=float32), 0.62),\n",
       " (array([0.679229], dtype=float32), 0.6900000000000001),\n",
       " (array([0.81681675], dtype=float32), 0.86),\n",
       " (array([0.7827025], dtype=float32), 0.75),\n",
       " (array([0.7542345], dtype=float32), 0.8),\n",
       " (array([0.7841566], dtype=float32), 0.89),\n",
       " (array([0.6315411], dtype=float32), 0.67),\n",
       " (array([0.6463957], dtype=float32), 0.7),\n",
       " (array([0.7367446], dtype=float32), 0.77)]"
      ]
     },
     "execution_count": 12,
     "metadata": {},
     "output_type": "execute_result"
    }
   ],
   "source": [
    "list(zip(model.predict(x_valid), y_valid))[:20]"
   ]
  }
 ],
 "metadata": {
  "interpreter": {
   "hash": "9e6fe232ec1802e04813a62eadbd4a033db6fcefdd78d84705bbb38e45fcef4a"
  },
  "kernelspec": {
   "display_name": "Python 3.9.7 64-bit",
   "name": "python3"
  },
  "language_info": {
   "codemirror_mode": {
    "name": "ipython",
    "version": 3
   },
   "file_extension": ".py",
   "mimetype": "text/x-python",
   "name": "python",
   "nbconvert_exporter": "python",
   "pygments_lexer": "ipython3",
   "version": "3.9.7"
  },
  "orig_nbformat": 4
 },
 "nbformat": 4,
 "nbformat_minor": 2
}
