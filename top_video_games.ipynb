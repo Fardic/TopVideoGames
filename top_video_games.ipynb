{
 "cells": [
  {
   "cell_type": "code",
   "execution_count": 1,
   "metadata": {},
   "outputs": [],
   "source": [
    "import pandas as pd\n",
    "from sqlite3 import connect\n",
    "import numpy as np\n",
    "from sklearn.feature_extraction.text import TfidfVectorizer, CountVectorizer\n",
    "from sklearn.cluster import KMeans\n",
    "from sklearn import preprocessing\n",
    "from keras.utils.np_utils import to_categorical\n"
   ]
  },
  {
   "cell_type": "code",
   "execution_count": 2,
   "metadata": {},
   "outputs": [],
   "source": [
    "conn = connect(\"data/dataset_review.db\")\n",
    "dataset = pd.read_sql(\"SELECT * FROM games\", conn)\n",
    "conn.close()\n",
    "\n",
    "dataset.set_index(\"index\", inplace=True)\n",
    "dataset = dataset.loc[dataset[\"summary\"].notnull()]\n",
    "dataset.reset_index(drop=True, inplace=True)"
   ]
  },
  {
   "cell_type": "code",
   "execution_count": 3,
   "metadata": {},
   "outputs": [],
   "source": [
    "# tfv = CountVectorizer(analyzer=\"word\", stop_words = 'english')\n",
    "\n",
    "# tfv.fit(dataset[\"summary\"].str.lower())\n",
    "# summary = tfv.transform(dataset[\"summary\"])\n",
    "# kmeans = KMeans(n_clusters=10, random_state=7).fit(summary)\n",
    "# np.save(\"data/summary_kmeans.npy\", np.array(kmeans.labels_))\n",
    "\n",
    "summary_kmeans = np.load(\"data/summary_kmeans.npy\", allow_pickle=True)"
   ]
  },
  {
   "cell_type": "code",
   "execution_count": 4,
   "metadata": {},
   "outputs": [],
   "source": [
    "categorical_labels = to_categorical(summary_kmeans, num_classes=10)\n",
    "dataset = pd.concat([dataset, pd.DataFrame(categorical_labels, columns=[\"summary_kmean_\" + str(i) for i in range(10)])], axis=1)"
   ]
  },
  {
   "cell_type": "code",
   "execution_count": 5,
   "metadata": {},
   "outputs": [
    {
     "name": "stdout",
     "output_type": "stream",
     "text": [
      "                                   name       platform  \\\n",
      "0  The Legend of Zelda: Ocarina of Time    Nintendo_64   \n",
      "1              Tony Hawk's Pro Skater 2    PlayStation   \n",
      "2                   Grand Theft Auto IV  PlayStation_3   \n",
      "3                           SoulCalibur      Dreamcast   \n",
      "4                   Grand Theft Auto IV       Xbox_360   \n",
      "\n",
      "                                             summary  meta_score  user_review  \\\n",
      "0  As a young boy, Link is tricked by Ganondorf, ...        0.99         0.91   \n",
      "1  As most major publishers' development efforts ...        0.98         0.74   \n",
      "2  [Metacritic's 2008 PS3 Game of the Year; Also ...        0.98         0.77   \n",
      "3  This is a tale of souls and swords, transcendi...        0.98         0.84   \n",
      "4  [Metacritic's 2008 Xbox 360 Game of the Year; ...        0.98         0.79   \n",
      "\n",
      "   publish_year  publish_month  \\\n",
      "0          1998             11   \n",
      "1          2000              9   \n",
      "2          2008              4   \n",
      "3          1999              9   \n",
      "4          2008              4   \n",
      "\n",
      "                                             reviews  summary_kmean_0  \\\n",
      "0  Nothing but pure 100% fun, challenging, and le...              1.0   \n",
      "1  The best skateboarding game ever and one of th...              1.0   \n",
      "2  Grand Theft Auto IV is not a perfect game, but...              1.0   \n",
      "3  I guarantee you'll be amazed at how phenomenal...              1.0   \n",
      "4  It's got a world you believe in, a cast you ca...              1.0   \n",
      "\n",
      "   summary_kmean_1  summary_kmean_2  summary_kmean_3  summary_kmean_4  \\\n",
      "0              0.0              0.0              0.0              0.0   \n",
      "1              0.0              0.0              0.0              0.0   \n",
      "2              0.0              0.0              0.0              0.0   \n",
      "3              0.0              0.0              0.0              0.0   \n",
      "4              0.0              0.0              0.0              0.0   \n",
      "\n",
      "   summary_kmean_5  summary_kmean_6  summary_kmean_7  summary_kmean_8  \\\n",
      "0              0.0              0.0              0.0              0.0   \n",
      "1              0.0              0.0              0.0              0.0   \n",
      "2              0.0              0.0              0.0              0.0   \n",
      "3              0.0              0.0              0.0              0.0   \n",
      "4              0.0              0.0              0.0              0.0   \n",
      "\n",
      "   summary_kmean_9  \n",
      "0              0.0  \n",
      "1              0.0  \n",
      "2              0.0  \n",
      "3              0.0  \n",
      "4              0.0  \n"
     ]
    }
   ],
   "source": [
    "print(dataset.head())"
   ]
  },
  {
   "cell_type": "code",
   "execution_count": null,
   "metadata": {},
   "outputs": [],
   "source": []
  }
 ],
 "metadata": {
  "interpreter": {
   "hash": "9e6fe232ec1802e04813a62eadbd4a033db6fcefdd78d84705bbb38e45fcef4a"
  },
  "kernelspec": {
   "display_name": "Python 3.9.7 64-bit",
   "name": "python3"
  },
  "language_info": {
   "codemirror_mode": {
    "name": "ipython",
    "version": 3
   },
   "file_extension": ".py",
   "mimetype": "text/x-python",
   "name": "python",
   "nbconvert_exporter": "python",
   "pygments_lexer": "ipython3",
   "version": "3.9.7"
  },
  "orig_nbformat": 4
 },
 "nbformat": 4,
 "nbformat_minor": 2
}
