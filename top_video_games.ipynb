{
 "cells": [
  {
   "cell_type": "code",
   "execution_count": 1,
   "metadata": {},
   "outputs": [],
   "source": [
    "import pandas as pd\n",
    "from sqlite3 import connect\n",
    "import numpy as np\n",
    "from sklearn.feature_extraction.text import CountVectorizer\n",
    "from sklearn.cluster import KMeans\n",
    "from sklearn import preprocessing\n",
    "from keras.utils.np_utils import to_categorical\n",
    "from sklearn.model_selection import train_test_split\n",
    "from sklearn import decomposition\n",
    "from keras.models import Sequential\n",
    "from keras.layers.core import Dense, Activation, Dropout\n",
    "from keras.layers.normalization import batch_normalization\n",
    "from tensorflow.keras.metrics import CategoricalAccuracy, AUC\n",
    "from tensorflow_addons.metrics import F1Score   \n",
    "\n",
    "\n"
   ]
  },
  {
   "cell_type": "code",
   "execution_count": 2,
   "metadata": {},
   "outputs": [],
   "source": [
    "conn = connect(\"data/dataset_review.db\")\n",
    "dataset = pd.read_sql(\"SELECT * FROM games\", conn)\n",
    "conn.close()\n",
    "\n",
    "dataset.set_index(\"index\", inplace=True)\n",
    "dataset = dataset.loc[dataset[\"summary\"].notnull()]\n",
    "dataset = dataset.loc[dataset[\"reviews\"].notnull()]\n",
    "dataset = dataset[dataset[\"user_review\"] != -1]\n",
    "dataset.reset_index(drop=True, inplace=True)"
   ]
  },
  {
   "cell_type": "code",
   "execution_count": 3,
   "metadata": {},
   "outputs": [],
   "source": [
    "# tfv = CountVectorizer(analyzer='word',stop_words = 'english', lowercase=True)\n",
    "# tfv.fit(dataset[\"summary\"])\n",
    "# summary = tfv.transform(dataset[\"summary\"])\n",
    "# kmeans = KMeans(n_clusters=30, random_state=7).fit(summary)\n",
    "# summary_kmeans = np.array(kmeans.labels_)\n",
    "# np.save(\"data/summary_kmeans.npy\", summary_kmeans)\n",
    "\n",
    "summary_kmeans = np.load(\"data/summary_kmeans.npy\", allow_pickle=True)"
   ]
  },
  {
   "cell_type": "code",
   "execution_count": 5,
   "metadata": {},
   "outputs": [],
   "source": [
    "categorical_labels = to_categorical(summary_kmeans, num_classes=30)\n",
    "dataset = pd.concat([dataset, pd.DataFrame(categorical_labels, columns=[\"summary_kmean_\" + str(i) for i in range(30)])], axis=1)\n",
    "y = pd.get_dummies((dataset[\"user_review\"] * 10).apply(np.floor, axis=1), prefix='label')\n",
    "x = dataset.drop(columns=[\"user_review\"])"
   ]
  },
  {
   "cell_type": "code",
   "execution_count": 6,
   "metadata": {},
   "outputs": [],
   "source": [
    "count_vec = CountVectorizer(analyzer='word', stop_words = 'english')\n",
    "word_vecs = count_vec.fit_transform(dataset[\"reviews\"].values)"
   ]
  },
  {
   "cell_type": "code",
   "execution_count": 7,
   "metadata": {},
   "outputs": [],
   "source": [
    "sc = preprocessing.StandardScaler(with_mean=False)\n",
    "svd = decomposition.TruncatedSVD(n_components=700)\n",
    "svd_word_vecs = svd.fit_transform(sc.fit_transform(word_vecs))\n",
    "\n",
    "x.drop(columns=[\"name\", \"summary\", \"reviews\"], inplace=True)\n",
    "\n",
    "x = pd.concat([x, pd.DataFrame(svd_word_vecs), pd.get_dummies(x.platform, prefix='plat')], axis=1)\n",
    "x.drop(columns=[\"platform\", \"publish_year\", \"publish_month\"], inplace=True)"
   ]
  },
  {
   "cell_type": "code",
   "execution_count": 8,
   "metadata": {},
   "outputs": [],
   "source": [
    "x_train, x_valid, y_train, y_valid = train_test_split(x, y, random_state=7, test_size=0.2, shuffle=True)"
   ]
  },
  {
   "cell_type": "code",
   "execution_count": 17,
   "metadata": {},
   "outputs": [],
   "source": [
    "model = Sequential()\n",
    "\n",
    "model.add(Dense(300, input_dim=x_train.shape[1], activation='relu'))\n",
    "model.add(Dropout(0.2))\n",
    "model.add(batch_normalization.BatchNormalization())\n",
    "\n",
    "\n",
    "model.add(Dense(len(y.columns)))\n",
    "model.add(Activation('softmax'))\n",
    "\n",
    "model.compile(loss='categorical_crossentropy', optimizer='adam', metrics=[CategoricalAccuracy(), F1Score(len(y.columns))])"
   ]
  },
  {
   "cell_type": "code",
   "execution_count": 18,
   "metadata": {},
   "outputs": [
    {
     "name": "stdout",
     "output_type": "stream",
     "text": [
      "Epoch 1/30\n",
      "186/186 [==============================] - 2s 5ms/step - loss: 2.1561 - categorical_accuracy: 0.3147 - f1_score: 0.1260 - val_loss: 1.6876 - val_categorical_accuracy: 0.3948 - val_f1_score: 0.1610\n",
      "Epoch 2/30\n",
      "186/186 [==============================] - 1s 4ms/step - loss: 1.3773 - categorical_accuracy: 0.4697 - f1_score: 0.2413 - val_loss: 1.5902 - val_categorical_accuracy: 0.4154 - val_f1_score: 0.1873\n",
      "Epoch 3/30\n",
      "186/186 [==============================] - 1s 4ms/step - loss: 1.2174 - categorical_accuracy: 0.5204 - f1_score: 0.3456 - val_loss: 1.5829 - val_categorical_accuracy: 0.4117 - val_f1_score: 0.1957\n",
      "Epoch 4/30\n",
      "186/186 [==============================] - 1s 4ms/step - loss: 1.1207 - categorical_accuracy: 0.5622 - f1_score: 0.4198 - val_loss: 1.6146 - val_categorical_accuracy: 0.4160 - val_f1_score: 0.1967\n",
      "Epoch 5/30\n",
      "186/186 [==============================] - 1s 4ms/step - loss: 1.0402 - categorical_accuracy: 0.5954 - f1_score: 0.4866 - val_loss: 1.6675 - val_categorical_accuracy: 0.4120 - val_f1_score: 0.1993\n",
      "Epoch 6/30\n",
      "186/186 [==============================] - 1s 4ms/step - loss: 0.9683 - categorical_accuracy: 0.6266 - f1_score: 0.5488 - val_loss: 1.7230 - val_categorical_accuracy: 0.4198 - val_f1_score: 0.2056\n",
      "Epoch 7/30\n",
      "186/186 [==============================] - 1s 4ms/step - loss: 0.9080 - categorical_accuracy: 0.6523 - f1_score: 0.5726 - val_loss: 1.7932 - val_categorical_accuracy: 0.4103 - val_f1_score: 0.2075\n",
      "Epoch 8/30\n",
      "186/186 [==============================] - 1s 4ms/step - loss: 0.8615 - categorical_accuracy: 0.6762 - f1_score: 0.6170 - val_loss: 1.8228 - val_categorical_accuracy: 0.4137 - val_f1_score: 0.2006\n",
      "Epoch 9/30\n",
      "186/186 [==============================] - 1s 3ms/step - loss: 0.8058 - categorical_accuracy: 0.6996 - f1_score: 0.6397 - val_loss: 1.8595 - val_categorical_accuracy: 0.4110 - val_f1_score: 0.2146\n",
      "Epoch 10/30\n",
      "186/186 [==============================] - 1s 3ms/step - loss: 0.7673 - categorical_accuracy: 0.7197 - f1_score: 0.6857 - val_loss: 1.9332 - val_categorical_accuracy: 0.4039 - val_f1_score: 0.2120\n",
      "Epoch 11/30\n",
      "186/186 [==============================] - 1s 4ms/step - loss: 0.7165 - categorical_accuracy: 0.7392 - f1_score: 0.7005 - val_loss: 2.0103 - val_categorical_accuracy: 0.4181 - val_f1_score: 0.2305\n",
      "Epoch 12/30\n",
      "186/186 [==============================] - 1s 4ms/step - loss: 0.6960 - categorical_accuracy: 0.7556 - f1_score: 0.7096 - val_loss: 2.0620 - val_categorical_accuracy: 0.4032 - val_f1_score: 0.2219\n",
      "Epoch 13/30\n",
      "186/186 [==============================] - 1s 4ms/step - loss: 0.6652 - categorical_accuracy: 0.7647 - f1_score: 0.7360 - val_loss: 2.1307 - val_categorical_accuracy: 0.4137 - val_f1_score: 0.2361\n",
      "Epoch 14/30\n",
      "186/186 [==============================] - 1s 3ms/step - loss: 0.6140 - categorical_accuracy: 0.7865 - f1_score: 0.7592 - val_loss: 2.1679 - val_categorical_accuracy: 0.4130 - val_f1_score: 0.2187\n",
      "Epoch 15/30\n",
      "186/186 [==============================] - 1s 4ms/step - loss: 0.5913 - categorical_accuracy: 0.7933 - f1_score: 0.7503 - val_loss: 2.2347 - val_categorical_accuracy: 0.4194 - val_f1_score: 0.2353\n",
      "Epoch 16/30\n",
      "186/186 [==============================] - 1s 4ms/step - loss: 0.5692 - categorical_accuracy: 0.8107 - f1_score: 0.7890 - val_loss: 2.2538 - val_categorical_accuracy: 0.4090 - val_f1_score: 0.2293\n",
      "Epoch 17/30\n",
      "186/186 [==============================] - 1s 3ms/step - loss: 0.5622 - categorical_accuracy: 0.8160 - f1_score: 0.7879 - val_loss: 2.3330 - val_categorical_accuracy: 0.4113 - val_f1_score: 0.2258\n",
      "Epoch 18/30\n",
      "186/186 [==============================] - 1s 3ms/step - loss: 0.5367 - categorical_accuracy: 0.8231 - f1_score: 0.7846 - val_loss: 2.3656 - val_categorical_accuracy: 0.4086 - val_f1_score: 0.2267\n",
      "Epoch 19/30\n",
      "186/186 [==============================] - 1s 3ms/step - loss: 0.5266 - categorical_accuracy: 0.8281 - f1_score: 0.8155 - val_loss: 2.4274 - val_categorical_accuracy: 0.4127 - val_f1_score: 0.2237\n",
      "Epoch 20/30\n",
      "186/186 [==============================] - 1s 3ms/step - loss: 0.5048 - categorical_accuracy: 0.8380 - f1_score: 0.8155 - val_loss: 2.4625 - val_categorical_accuracy: 0.4002 - val_f1_score: 0.1679\n",
      "Epoch 21/30\n",
      "186/186 [==============================] - 1s 3ms/step - loss: 0.4832 - categorical_accuracy: 0.8421 - f1_score: 0.7768 - val_loss: 2.4987 - val_categorical_accuracy: 0.4096 - val_f1_score: 0.2231\n",
      "Epoch 22/30\n",
      "186/186 [==============================] - 1s 3ms/step - loss: 0.4627 - categorical_accuracy: 0.8534 - f1_score: 0.8265 - val_loss: 2.5054 - val_categorical_accuracy: 0.4090 - val_f1_score: 0.2171\n",
      "Epoch 23/30\n",
      "186/186 [==============================] - 1s 3ms/step - loss: 0.4532 - categorical_accuracy: 0.8552 - f1_score: 0.8317 - val_loss: 2.6159 - val_categorical_accuracy: 0.4140 - val_f1_score: 0.2251\n",
      "Epoch 24/30\n",
      "186/186 [==============================] - 1s 4ms/step - loss: 0.4268 - categorical_accuracy: 0.8675 - f1_score: 0.8444 - val_loss: 2.6856 - val_categorical_accuracy: 0.4039 - val_f1_score: 0.2158\n",
      "Epoch 25/30\n",
      "186/186 [==============================] - 1s 3ms/step - loss: 0.4084 - categorical_accuracy: 0.8744 - f1_score: 0.8499 - val_loss: 2.7669 - val_categorical_accuracy: 0.4103 - val_f1_score: 0.2175\n",
      "Epoch 26/30\n",
      "186/186 [==============================] - 1s 3ms/step - loss: 0.4028 - categorical_accuracy: 0.8777 - f1_score: 0.8639 - val_loss: 2.7624 - val_categorical_accuracy: 0.3972 - val_f1_score: 0.2187\n",
      "Epoch 27/30\n",
      "186/186 [==============================] - 1s 3ms/step - loss: 0.4056 - categorical_accuracy: 0.8720 - f1_score: 0.8500 - val_loss: 2.8557 - val_categorical_accuracy: 0.4016 - val_f1_score: 0.2107\n",
      "Epoch 28/30\n",
      "186/186 [==============================] - 1s 3ms/step - loss: 0.3824 - categorical_accuracy: 0.8841 - f1_score: 0.8571 - val_loss: 2.8852 - val_categorical_accuracy: 0.4130 - val_f1_score: 0.2228\n",
      "Epoch 29/30\n",
      "186/186 [==============================] - 1s 3ms/step - loss: 0.3816 - categorical_accuracy: 0.8874 - f1_score: 0.8838 - val_loss: 2.9192 - val_categorical_accuracy: 0.4137 - val_f1_score: 0.2289\n",
      "Epoch 30/30\n",
      "186/186 [==============================] - 1s 3ms/step - loss: 0.3736 - categorical_accuracy: 0.8903 - f1_score: 0.8579 - val_loss: 2.9820 - val_categorical_accuracy: 0.4036 - val_f1_score: 0.2491\n"
     ]
    },
    {
     "data": {
      "text/plain": [
       "<keras.callbacks.History at 0x25f0ccff6d0>"
      ]
     },
     "execution_count": 18,
     "metadata": {},
     "output_type": "execute_result"
    }
   ],
   "source": [
    "model.fit(x_train, y=y_train, batch_size=64, \n",
    "          epochs=30, verbose=1, \n",
    "          validation_data=(x_valid, y_valid))"
   ]
  }
 ],
 "metadata": {
  "interpreter": {
   "hash": "9e6fe232ec1802e04813a62eadbd4a033db6fcefdd78d84705bbb38e45fcef4a"
  },
  "kernelspec": {
   "display_name": "Python 3.9.7 64-bit",
   "name": "python3"
  },
  "language_info": {
   "codemirror_mode": {
    "name": "ipython",
    "version": 3
   },
   "file_extension": ".py",
   "mimetype": "text/x-python",
   "name": "python",
   "nbconvert_exporter": "python",
   "pygments_lexer": "ipython3",
   "version": "3.9.7"
  },
  "orig_nbformat": 4
 },
 "nbformat": 4,
 "nbformat_minor": 2
}
