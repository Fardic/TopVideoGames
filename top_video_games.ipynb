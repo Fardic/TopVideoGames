{
 "cells": [
  {
   "cell_type": "code",
   "execution_count": 1,
   "metadata": {},
   "outputs": [],
   "source": [
    "import pandas as pd\n",
    "from sqlite3 import connect\n",
    "import numpy as np\n",
    "from sklearn.feature_extraction.text import TfidfVectorizer, CountVectorizer\n",
    "from sklearn.cluster import KMeans\n",
    "from sklearn import preprocessing\n",
    "from keras.utils.np_utils import to_categorical\n",
    "from sklearn.model_selection import train_test_split\n"
   ]
  },
  {
   "cell_type": "code",
   "execution_count": 2,
   "metadata": {},
   "outputs": [],
   "source": [
    "conn = connect(\"data/dataset_review.db\")\n",
    "dataset = pd.read_sql(\"SELECT * FROM games\", conn)\n",
    "conn.close()\n",
    "\n",
    "dataset.set_index(\"index\", inplace=True)\n",
    "dataset = dataset.loc[dataset[\"summary\"].notnull()]\n",
    "dataset = dataset.loc[dataset[\"reviews\"].notnull()]\n",
    "dataset = dataset[dataset[\"user_review\"] != -1]\n",
    "dataset.reset_index(drop=True, inplace=True)"
   ]
  },
  {
   "cell_type": "code",
   "execution_count": 3,
   "metadata": {},
   "outputs": [],
   "source": [
    "tfv = CountVectorizer(analyzer=\"word\", stop_words = 'english')\n",
    "tfv.fit(dataset[\"summary\"].str.lower())\n",
    "summary = tfv.transform(dataset[\"summary\"])\n",
    "kmeans = KMeans(n_clusters=10, random_state=7).fit(summary)\n",
    "summary_kmeans = np.array(kmeans.labels_)\n",
    "np.save(\"data/summary_kmeans.npy\", summary_kmeans)\n",
    "\n",
    "# summary_kmeans = np.load(\"data/summary_kmeans.npy\", allow_pickle=True)"
   ]
  },
  {
   "cell_type": "code",
   "execution_count": 4,
   "metadata": {},
   "outputs": [],
   "source": [
    "categorical_labels = to_categorical(summary_kmeans, num_classes=10)\n",
    "dataset = pd.concat([dataset, pd.DataFrame(categorical_labels, columns=[\"summary_kmean_\" + str(i) for i in range(10)])], axis=1)\n",
    "y = dataset[\"user_review\"]\n",
    "x = dataset.drop(columns=[\"user_review\"])"
   ]
  },
  {
   "cell_type": "code",
   "execution_count": 6,
   "metadata": {},
   "outputs": [],
   "source": [
    "\n",
    "tfv = CountVectorizer(analyzer=\"word\", stop_words = 'english')\n",
    "tfv.fit(x)\n",
    "x = tfv.transform(x)"
   ]
  },
  {
   "cell_type": "code",
   "execution_count": null,
   "metadata": {},
   "outputs": [],
   "source": [
    "x_train, x_valid, y_train, y_valid = train_test_split(x.text.values, y, random_state=7, test_size=0.2, shuffle=True)"
   ]
  },
  {
   "cell_type": "code",
   "execution_count": null,
   "metadata": {},
   "outputs": [],
   "source": []
  }
 ],
 "metadata": {
  "interpreter": {
   "hash": "9e6fe232ec1802e04813a62eadbd4a033db6fcefdd78d84705bbb38e45fcef4a"
  },
  "kernelspec": {
   "display_name": "Python 3.9.7 64-bit",
   "name": "python3"
  },
  "language_info": {
   "codemirror_mode": {
    "name": "ipython",
    "version": 3
   },
   "file_extension": ".py",
   "mimetype": "text/x-python",
   "name": "python",
   "nbconvert_exporter": "python",
   "pygments_lexer": "ipython3",
   "version": "3.9.7"
  },
  "orig_nbformat": 4
 },
 "nbformat": 4,
 "nbformat_minor": 2
}
